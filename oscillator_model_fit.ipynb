{
 "cells": [
  {
   "cell_type": "markdown",
   "id": "d08aa721-835e-46a6-b67b-5b0e3bb30b0d",
   "metadata": {},
   "source": [
    "# Fitting Dynamical Models to Data\n",
    "This notebook demonstrates how to fit a simple dynamical model, a harmonic oscillator, to data with measurement uncertainty."
   ]
  },
  {
   "cell_type": "code",
   "execution_count": 2,
   "id": "78c0be5e-73a3-40dc-a9cb-e3121c1f4f6a",
   "metadata": {},
   "outputs": [],
   "source": [
    "# numerical tools\n",
    "import numpy as np\n",
    "# plotting\n",
    "import matplotlib.pyplot as plt\n",
    "# data(base) tools\n",
    "import pandas as pd\n",
    "# model fitting\n",
    "from scipy.optimize import curve_fit"
   ]
  },
  {
   "cell_type": "code",
   "execution_count": 7,
   "id": "8b9b0952-4288-402a-920d-5e7983840e6e",
   "metadata": {},
   "outputs": [],
   "source": [
    "# Step 1: read and plot the data\n",
    "data = pd.read_csv('data.csv')"
   ]
  },
  {
   "cell_type": "code",
   "execution_count": 8,
   "id": "da1325d6-bbb6-4075-bb2f-4bf0eb4522dd",
   "metadata": {},
   "outputs": [
    {
     "data": {
      "text/html": [
       "<div>\n",
       "<style scoped>\n",
       "    .dataframe tbody tr th:only-of-type {\n",
       "        vertical-align: middle;\n",
       "    }\n",
       "\n",
       "    .dataframe tbody tr th {\n",
       "        vertical-align: top;\n",
       "    }\n",
       "\n",
       "    .dataframe thead th {\n",
       "        text-align: right;\n",
       "    }\n",
       "</style>\n",
       "<table border=\"1\" class=\"dataframe\">\n",
       "  <thead>\n",
       "    <tr style=\"text-align: right;\">\n",
       "      <th></th>\n",
       "      <th>time_s</th>\n",
       "      <th>signal_m</th>\n",
       "    </tr>\n",
       "  </thead>\n",
       "  <tbody>\n",
       "    <tr>\n",
       "      <th>0</th>\n",
       "      <td>0.00000</td>\n",
       "      <td>0.529097</td>\n",
       "    </tr>\n",
       "    <tr>\n",
       "      <th>1</th>\n",
       "      <td>0.10101</td>\n",
       "      <td>0.631935</td>\n",
       "    </tr>\n",
       "    <tr>\n",
       "      <th>2</th>\n",
       "      <td>0.20202</td>\n",
       "      <td>0.850601</td>\n",
       "    </tr>\n",
       "    <tr>\n",
       "      <th>3</th>\n",
       "      <td>0.30303</td>\n",
       "      <td>1.046243</td>\n",
       "    </tr>\n",
       "    <tr>\n",
       "      <th>4</th>\n",
       "      <td>0.40404</td>\n",
       "      <td>0.942273</td>\n",
       "    </tr>\n",
       "    <tr>\n",
       "      <th>...</th>\n",
       "      <td>...</td>\n",
       "      <td>...</td>\n",
       "    </tr>\n",
       "    <tr>\n",
       "      <th>95</th>\n",
       "      <td>9.59596</td>\n",
       "      <td>0.599867</td>\n",
       "    </tr>\n",
       "    <tr>\n",
       "      <th>96</th>\n",
       "      <td>9.69697</td>\n",
       "      <td>0.894227</td>\n",
       "    </tr>\n",
       "    <tr>\n",
       "      <th>97</th>\n",
       "      <td>9.79798</td>\n",
       "      <td>0.973950</td>\n",
       "    </tr>\n",
       "    <tr>\n",
       "      <th>98</th>\n",
       "      <td>9.89899</td>\n",
       "      <td>0.993033</td>\n",
       "    </tr>\n",
       "    <tr>\n",
       "      <th>99</th>\n",
       "      <td>10.00000</td>\n",
       "      <td>0.973371</td>\n",
       "    </tr>\n",
       "  </tbody>\n",
       "</table>\n",
       "<p>100 rows × 2 columns</p>\n",
       "</div>"
      ],
      "text/plain": [
       "      time_s  signal_m\n",
       "0    0.00000  0.529097\n",
       "1    0.10101  0.631935\n",
       "2    0.20202  0.850601\n",
       "3    0.30303  1.046243\n",
       "4    0.40404  0.942273\n",
       "..       ...       ...\n",
       "95   9.59596  0.599867\n",
       "96   9.69697  0.894227\n",
       "97   9.79798  0.973950\n",
       "98   9.89899  0.993033\n",
       "99  10.00000  0.973371\n",
       "\n",
       "[100 rows x 2 columns]"
      ]
     },
     "execution_count": 8,
     "metadata": {},
     "output_type": "execute_result"
    }
   ],
   "source": [
    "data"
   ]
  },
  {
   "cell_type": "code",
   "execution_count": 9,
   "id": "3d960bd3-3250-40b9-88c3-81a29c059a29",
   "metadata": {},
   "outputs": [],
   "source": [
    "# Step 2: Define the dynamical model: simple harmonic oscillator\n",
    "# The model is fixed. What we try to do is fit the model parameters A, omega, phi and C\n",
    "\n",
    "def harmonic_oscillator(t, A, omega, phi, C):\n",
    "    \"\"\" Dynamical model for a harmonic oscillator\n",
    "    # A     ... amplitude\n",
    "    # omega ... angular frequency\n",
    "    # phi   ... phase\n",
    "    # C     ... offset \n",
    "    \"\"\"\n",
    "    \n",
    "    model = A * np.sin(omega * t + phi) + C\n",
    "    return model"
   ]
  },
  {
   "cell_type": "code",
   "execution_count": 10,
   "id": "059150e7-6458-4c05-8c56-e15740e83a82",
   "metadata": {},
   "outputs": [],
   "source": [
    "# Step 3: provide initial guesses for the parameters A, omega, phi, C\n",
    "initial_guess = [1.0, 2.0, 0.0, 0.0]  # \n"
   ]
  },
  {
   "cell_type": "code",
   "execution_count": 1,
   "id": "07334949-de38-46c1-ae70-d003d6fe4d7c",
   "metadata": {},
   "outputs": [
    {
     "name": "stdout",
     "output_type": "stream",
     "text": [
      "Fitted parameters: A = 1.0129658797000514, omega = 1.9949971017602945, phi = 0.5409518432595922, C = -0.009923100726391755\n"
     ]
    },
    {
     "data": {
      "image/png": "[encoded data removed]",
      "text/plain": [
       "<Figure size 640x480 with 1 Axes>"
      ]
     },
     "metadata": {},
     "output_type": "display_data"
    }
   ],
   "source": [
    "# Step 4: Use curve_fit to fit the harmonic oscillator model to the data\n",
    "t_data = data.time_s.values\n",
    "y_data = data.signal_m.values\n",
    "params, params_covariance = curve_fit(harmonic_oscillator, t_data, y_data, p0=initial_guess)\n",
    "\n",
    "\n"
   ]
  },
  {
   "cell_type": "code",
   "execution_count": null,
   "id": "2e21f422-aa7d-4344-8081-27ecf79f40f7",
   "metadata": {},
   "outputs": [],
   "source": [
    "# Extract the fitted parameters\n",
    "A_fit, omega_fit, phi_fit, C_fit = params\n",
    "\n",
    "# Print fitted parameters\n",
    "print(f\"Fitted parameters: A = {A_fit}, omega = {omega_fit}, phi = {phi_fit}, C = {C_fit}\")\n",
    "\n"
   ]
  },
  {
   "cell_type": "code",
   "execution_count": null,
   "id": "18c38612-a0c1-412b-88d8-353c2cabe005",
   "metadata": {},
   "outputs": [],
   "source": [
    "# Plot the original data and the fitted curve\n",
    "plt.scatter(t_data, y_data, label='Data', color='red')\n",
    "t_fit = np.linspace(0, 10, 1000)\n",
    "y_fit = harmonic_oscillator(t_fit, A_fit, omega_fit, phi_fit, C_fit)\n",
    "plt.plot(t_fit, y_fit, label='Fitted Curve', color='blue')\n",
    "\n",
    "plt.legend()\n",
    "plt.xlabel('Time [s]')\n",
    "plt.ylabel('Amplitude [m]')\n",
    "plt.title('Simple Harmonic Oscillator Fit')\n",
    "plt.show()\n"
   ]
  },
  {
   "cell_type": "markdown",
   "id": "e8d1b84f-64eb-4119-a72c-548947d1f0fa",
   "metadata": {},
   "source": [
    "## Here is how the synthetic data was generated (for example purposes)"
   ]
  },
  {
   "cell_type": "code",
   "execution_count": 3,
   "id": "c7ef8621-d3f2-4f05-8ac5-6972f918cc61",
   "metadata": {},
   "outputs": [],
   "source": [
    "# Initiate a random seed for the random number generator. That will allow us to reproduce the results.\n",
    "np.random.seed(42)\n",
    "\n",
    "t_data = np.linspace(0, 10, 100)  # Time data\n",
    "A_true, omega_true, phi_true, C_true = 1.0, 2.0, 0.5, 0.0  # True parameters\n",
    "y_data = A_true * np.sin(omega_true * t_data + phi_true) + C_true # True signal\n",
    "\n",
    "y_data += 0.1 * np.random.normal(size=t_data.size)  # Add noise to data\n",
    "\n"
   ]
  },
  {
   "cell_type": "code",
   "execution_count": 4,
   "id": "75ee92f1-ab73-415a-8751-0f22269fda3c",
   "metadata": {},
   "outputs": [],
   "source": [
    "# Create a dataframe to export the data\n",
    "\n",
    "dataframe = pd.DataFrame()\n",
    "dataframe['time_s'] = t_data\n",
    "dataframe['signal_m'] = y_data"
   ]
  },
  {
   "cell_type": "code",
   "execution_count": 5,
   "id": "76dd0712-3edf-4c04-af28-3ee89de71c31",
   "metadata": {},
   "outputs": [
    {
     "data": {
      "text/html": [
       "<div>\n",
       "<style scoped>\n",
       "    .dataframe tbody tr th:only-of-type {\n",
       "        vertical-align: middle;\n",
       "    }\n",
       "\n",
       "    .dataframe tbody tr th {\n",
       "        vertical-align: top;\n",
       "    }\n",
       "\n",
       "    .dataframe thead th {\n",
       "        text-align: right;\n",
       "    }\n",
       "</style>\n",
       "<table border=\"1\" class=\"dataframe\">\n",
       "  <thead>\n",
       "    <tr style=\"text-align: right;\">\n",
       "      <th></th>\n",
       "      <th>time_s</th>\n",
       "      <th>signal_m</th>\n",
       "    </tr>\n",
       "  </thead>\n",
       "  <tbody>\n",
       "    <tr>\n",
       "      <th>0</th>\n",
       "      <td>0.00000</td>\n",
       "      <td>0.529097</td>\n",
       "    </tr>\n",
       "    <tr>\n",
       "      <th>1</th>\n",
       "      <td>0.10101</td>\n",
       "      <td>0.631935</td>\n",
       "    </tr>\n",
       "    <tr>\n",
       "      <th>2</th>\n",
       "      <td>0.20202</td>\n",
       "      <td>0.850601</td>\n",
       "    </tr>\n",
       "    <tr>\n",
       "      <th>3</th>\n",
       "      <td>0.30303</td>\n",
       "      <td>1.046243</td>\n",
       "    </tr>\n",
       "    <tr>\n",
       "      <th>4</th>\n",
       "      <td>0.40404</td>\n",
       "      <td>0.942273</td>\n",
       "    </tr>\n",
       "    <tr>\n",
       "      <th>...</th>\n",
       "      <td>...</td>\n",
       "      <td>...</td>\n",
       "    </tr>\n",
       "    <tr>\n",
       "      <th>95</th>\n",
       "      <td>9.59596</td>\n",
       "      <td>0.599867</td>\n",
       "    </tr>\n",
       "    <tr>\n",
       "      <th>96</th>\n",
       "      <td>9.69697</td>\n",
       "      <td>0.894227</td>\n",
       "    </tr>\n",
       "    <tr>\n",
       "      <th>97</th>\n",
       "      <td>9.79798</td>\n",
       "      <td>0.973950</td>\n",
       "    </tr>\n",
       "    <tr>\n",
       "      <th>98</th>\n",
       "      <td>9.89899</td>\n",
       "      <td>0.993033</td>\n",
       "    </tr>\n",
       "    <tr>\n",
       "      <th>99</th>\n",
       "      <td>10.00000</td>\n",
       "      <td>0.973371</td>\n",
       "    </tr>\n",
       "  </tbody>\n",
       "</table>\n",
       "<p>100 rows × 2 columns</p>\n",
       "</div>"
      ],
      "text/plain": [
       "      time_s  signal_m\n",
       "0    0.00000  0.529097\n",
       "1    0.10101  0.631935\n",
       "2    0.20202  0.850601\n",
       "3    0.30303  1.046243\n",
       "4    0.40404  0.942273\n",
       "..       ...       ...\n",
       "95   9.59596  0.599867\n",
       "96   9.69697  0.894227\n",
       "97   9.79798  0.973950\n",
       "98   9.89899  0.993033\n",
       "99  10.00000  0.973371\n",
       "\n",
       "[100 rows x 2 columns]"
      ]
     },
     "execution_count": 5,
     "metadata": {},
     "output_type": "execute_result"
    }
   ],
   "source": [
    "dataframe"
   ]
  },
  {
   "cell_type": "code",
   "execution_count": 6,
   "id": "e9a508fc-beb3-414f-90a9-70c335b02ae4",
   "metadata": {},
   "outputs": [],
   "source": [
    "# export the data into \"data.csv\"\n",
    "dataframe.to_csv('data.csv',index=False)"
   ]
  },
  {
   "cell_type": "code",
   "execution_count": null,
   "id": "5173e6d7-0a2f-4460-b85d-d05d2c580bba",
   "metadata": {},
   "outputs": [],
   "source": []
  }
 ],
 "metadata": {
  "kernelspec": {
   "display_name": "eggl",
   "language": "python",
   "name": "eggl"
  },
  "language_info": {
   "codemirror_mode": {
    "name": "ipython",
    "version": 3
   },
   "file_extension": ".py",
   "mimetype": "text/x-python",
   "name": "python",
   "nbconvert_exporter": "python",
   "pygments_lexer": "ipython3",
   "version": "3.12.4"
  }
 },
 "nbformat": 4,
 "nbformat_minor": 5
}
